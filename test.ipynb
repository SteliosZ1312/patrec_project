{
 "cells": [
  {
   "cell_type": "code",
   "execution_count": 1,
   "metadata": {},
   "outputs": [
    {
     "name": "stdout",
     "output_type": "stream",
     "text": [
      "Torchvision dataset first inds of perm: tensor([ 3048, 19563, 58303,  8870, 40228])\n",
      "Missing keys in module: [] Unexpected keys in module: []\n",
      "Loaded vae checkpoint `latest' after epoch 100\n"
     ]
    }
   ],
   "source": [
    "from load_run import load_single_module\n",
    "\n",
    "run_dir = r\"runs\\runs\\test\"\n",
    "\n",
    "vae = load_single_module(run_dir)"
   ]
  },
  {
   "cell_type": "code",
   "execution_count": 12,
   "metadata": {},
   "outputs": [],
   "source": [
    "\n",
    "import matplotlib\n",
    "matplotlib.use('TkAgg')\n",
    "\n",
    "import matplotlib.pyplot as plt\n",
    "\n",
    "n_samples = 8\n",
    "\n",
    "sample = vae['module'].sample(n_samples,  true_sample=False)\n",
    "\n",
    "fig, axes = plt.subplots(2, 4, figsize=(10, 5))  # 2 rows, 4 columns\n",
    "\n",
    "for i, ax in enumerate(axes.flatten()):\n",
    "    image = sample.detach().numpy()[i, 0]\n",
    "    ax.imshow(image, cmap='gray')\n",
    "    ax.axis('off')  # Turn off axis labels\n",
    "\n",
    "plt.tight_layout()  # Adjust layout to prevent overlap\n",
    "plt.show()"
   ]
  }
 ],
 "metadata": {
  "kernelspec": {
   "display_name": "uomh",
   "language": "python",
   "name": "python3"
  },
  "language_info": {
   "codemirror_mode": {
    "name": "ipython",
    "version": 3
   },
   "file_extension": ".py",
   "mimetype": "text/x-python",
   "name": "python",
   "nbconvert_exporter": "python",
   "pygments_lexer": "ipython3",
   "version": "3.9.17"
  }
 },
 "nbformat": 4,
 "nbformat_minor": 2
}
